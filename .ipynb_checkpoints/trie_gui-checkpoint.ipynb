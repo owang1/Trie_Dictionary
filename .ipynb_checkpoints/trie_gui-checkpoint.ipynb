{
 "cells": [
  {
   "cell_type": "code",
   "execution_count": 1,
   "metadata": {
    "collapsed": true
   },
   "outputs": [],
   "source": [
    "# IMPORTS\n",
    "\n",
    "import os\n",
    "import sys\n",
    "import string\n",
    "import requests\n",
    "\n",
    "from IPython.display import HTML\n",
    "from ipywidgets import interact"
   ]
  },
  {
   "cell_type": "code",
   "execution_count": 2,
   "metadata": {
    "collapsed": true
   },
   "outputs": [],
   "source": [
    "# CREATE CLASS\n",
    "\n",
    "class Node(object):\n",
    "    \n",
    "    def __init__(N, char: str):\n",
    "        N.value = char\n",
    "        N.children = []\n",
    "        N.end_word = False"
   ]
  },
  {
   "cell_type": "code",
   "execution_count": 3,
   "metadata": {
    "collapsed": true
   },
   "outputs": [],
   "source": [
    "# INSERT FUNCTION\n",
    "\n",
    "def insert(root, word: str):\n",
    "\n",
    "     # Set node equal to root\n",
    "    node = root\n",
    "\n",
    "    # Iterate through given word\n",
    "    for c in word:\n",
    "\n",
    "        # Keep track of whether or not character is found in children\n",
    "        in_children = False\n",
    "\n",
    "        # Set in_children to false if c is not in children nodes\n",
    "        for child in node.children:\n",
    "\n",
    "            # If character is in children, point node to child\n",
    "            if child.value == c:\n",
    "                node = child\n",
    "                in_children = True\n",
    "                break\n",
    "\n",
    "        # If character is NOT in children, add a new child\n",
    "        if not in_children:\n",
    "            next_node = Node(c)\n",
    "            node.children.append(next_node)\n",
    "            node = next_node\n",
    "\n",
    "    # Mark last character as leaf node\n",
    "    node.end_word = True"
   ]
  },
  {
   "cell_type": "code",
   "execution_count": 4,
   "metadata": {
    "collapsed": true
   },
   "outputs": [],
   "source": [
    "# SEARCH FUNCTION\n",
    "\n",
    "def search(root, word: str):\n",
    "\n",
    "    # Set node equal to root\n",
    "    node = root\n",
    "\n",
    "    # Check if root has no children\n",
    "    if not root.children:\n",
    "        return False\n",
    "\n",
    "    # Iterate through given word\n",
    "    for c in word:\n",
    "\n",
    "        # Keep track of whether or not character is found\n",
    "        in_children = False\n",
    "\n",
    "        for child in node.children:\n",
    "\n",
    "            # If character is found in existing child, set char_found to True\n",
    "            if child.value == c:\n",
    "                in_children = True\n",
    "                node = child\n",
    "                break\n",
    "\n",
    "        # If character is not found, return False\n",
    "        if not in_children:\n",
    "            return False\n",
    "\n",
    "    # If not return before, the word has been found; return True\n",
    "    if node.end_word:\n",
    "        return True\n",
    "    else:\n",
    "        return False"
   ]
  },
  {
   "cell_type": "code",
   "execution_count": 5,
   "metadata": {
    "collapsed": true
   },
   "outputs": [],
   "source": [
    "# READ DICTIONARY\n",
    "\n",
    "# Open file\n",
    "dict_file = open(\"words.txt\", \"r\")\n",
    "dict_text = dict_file.read()\n",
    "dict_file.close()\n",
    "\n",
    "# Split words\n",
    "dictionary = dict_text.split()"
   ]
  },
  {
   "cell_type": "code",
   "execution_count": 6,
   "metadata": {},
   "outputs": [
    {
     "name": "stdout",
     "output_type": "stream",
     "text": [
      "{'test_text_1.txt': 61, 'test_text_2.txt': 63}\n"
     ]
    }
   ],
   "source": [
    "# READ TXT FILES\n",
    "\n",
    "# Create compilation of movie titles\n",
    "#scripts = [\"shrek\", \"finding_nemo\", \"the_kings_speech\", \"the_imitation_game\", \"grown_ups\", \"white_chicks\", \"star_wars\", \"the_martian\"]\n",
    "scripts = [\"shrek\"]\n",
    "scripts = [title + \".txt\" for title in scripts]\n",
    "\n",
    "punctuation = \"!#$%&()*+,./:;<=>?@[\\]^_`{|}~\"\n",
    "\n",
    "# Create dictionary for plotting\n",
    "data = {}\n",
    "\n",
    "# Open each file\n",
    "for title in scripts:\n",
    "    \n",
    "    # Initialize values\n",
    "    found_words = 0\n",
    "    \n",
    "    # Load text\n",
    "    file = open(title, \"r\")\n",
    "    text = file.read()\n",
    "    file.close()\n",
    "    \n",
    "    # Split words\n",
    "    words = text.split()\n",
    "    \n",
    "    # Remove punctuation and make lowercase\n",
    "    table = str.maketrans('', '', punctuation)\n",
    "    words = [w.translate(table) for w in words]\n",
    "    words = [w.lower() for w in words]\n",
    "    \n",
    "    root = Node('*')\n",
    "    \n",
    "    for w in words:\n",
    "        insert(root, w)\n",
    "        \n",
    "    # Search using imported dictionary\n",
    "    for word in dictionary:\n",
    "        if search(root, word):\n",
    "            found_words += 1\n",
    "    \n",
    "    # Insert into dictionary\n",
    "    data[title] = found_words\n",
    "    \n",
    "print(data)"
   ]
  },
  {
   "cell_type": "code",
   "execution_count": null,
   "metadata": {
    "collapsed": true
   },
   "outputs": [],
   "source": []
  }
 ],
 "metadata": {
  "kernelspec": {
   "display_name": "Python 3",
   "language": "python",
   "name": "python3"
  },
  "language_info": {
   "codemirror_mode": {
    "name": "ipython",
    "version": 3
   },
   "file_extension": ".py",
   "mimetype": "text/x-python",
   "name": "python",
   "nbconvert_exporter": "python",
   "pygments_lexer": "ipython3",
   "version": "3.6.3"
  }
 },
 "nbformat": 4,
 "nbformat_minor": 2
}
