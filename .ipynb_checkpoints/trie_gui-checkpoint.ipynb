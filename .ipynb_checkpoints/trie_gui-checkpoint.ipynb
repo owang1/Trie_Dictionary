{
 "cells": [
  {
   "cell_type": "markdown",
   "metadata": {},
   "source": [
    "# Welcome.\n",
    "\n",
    "This program was created as the final project submission for Spring 2018 Data Structures by Yejee Oh and Olivia Wang. This project utilizes a trie to manipulate and analyze the text streams from various movie scripts.\n",
    "\n",
    "There are three sections: the code, followed by two interactive features that can be explored by users."
   ]
  },
  {
   "cell_type": "markdown",
   "metadata": {},
   "source": [
    "## Section 1: Code"
   ]
  },
  {
   "cell_type": "code",
   "execution_count": 2,
   "metadata": {
    "collapsed": true
   },
   "outputs": [],
   "source": [
    "# IMPORTS\n",
    "\n",
    "import os\n",
    "import sys\n",
    "import string\n",
    "import requests\n",
    "import bisect\n",
    "import seaborn as sns\n",
    "import matplotlib.pyplot as plt\n",
    "\n",
    "from IPython.display import HTML\n",
    "from IPython.display import display\n",
    "from ipywidgets import interact\n",
    "from ipywidgets import widgets\n",
    "from ipykernel.pylab.backend_inline import flush_figures"
   ]
  },
  {
   "cell_type": "code",
   "execution_count": 3,
   "metadata": {
    "collapsed": true
   },
   "outputs": [],
   "source": [
    "# CREATE CLASS\n",
    "\n",
    "class Node(object):\n",
    "    \n",
    "    def __init__(N, char: str):\n",
    "        N.value = char\n",
    "        N.children = []\n",
    "        N.end_word = False\n",
    "        N.count = 1"
   ]
  },
  {
   "cell_type": "code",
   "execution_count": 4,
   "metadata": {
    "collapsed": true
   },
   "outputs": [],
   "source": [
    "# INSERT FUNCTION\n",
    "\n",
    "def insert(root, word: str):\n",
    "\n",
    "     # Set node equal to root\n",
    "    node = root\n",
    "\n",
    "    # Iterate through given word\n",
    "    for c in word:\n",
    "\n",
    "        # Keep track of whether or not character is found in children\n",
    "        in_children = False\n",
    "\n",
    "        # Set in_children to false if c is not in children nodes\n",
    "        for child in node.children:\n",
    "\n",
    "            # If character is in children, point node to child\n",
    "            if child.value == c:\n",
    "                node = child\n",
    "                in_children = True\n",
    "                break\n",
    "\n",
    "        # If character is NOT in children, add a new child\n",
    "        if not in_children:\n",
    "            next_node = Node(c)\n",
    "            node.children.append(next_node)\n",
    "            node = next_node\n",
    "\n",
    "    # Mark last character as leaf node if not already a word in trie\n",
    "    if node.end_word == False:\n",
    "        node.end_word = True\n",
    "    # If word already exists, increment count\n",
    "    else:\n",
    "        node.count += 1"
   ]
  },
  {
   "cell_type": "code",
   "execution_count": 5,
   "metadata": {
    "collapsed": true
   },
   "outputs": [],
   "source": [
    "# SEARCH FUNCTION\n",
    "\n",
    "def search(root, word: str):\n",
    "\n",
    "    # Set node equal to root\n",
    "    node = root\n",
    "\n",
    "    # Check if root has no children\n",
    "    if not root.children:\n",
    "        return False\n",
    "\n",
    "    # Iterate through given word\n",
    "    for c in word:\n",
    "\n",
    "        # Keep track of whether or not character is found\n",
    "        in_children = False\n",
    "\n",
    "        for child in node.children:\n",
    "\n",
    "            # If character is found in existing child, set char_found to True\n",
    "            if child.value == c:\n",
    "                in_children = True\n",
    "                node = child\n",
    "                break\n",
    "\n",
    "        # If character is not found, return False\n",
    "        if not in_children:\n",
    "            return False\n",
    "\n",
    "    # If not return before, the word has been found; return True\n",
    "    if node.end_word:\n",
    "        return True\n",
    "    else:\n",
    "        return False"
   ]
  },
  {
   "cell_type": "code",
   "execution_count": 6,
   "metadata": {
    "collapsed": true
   },
   "outputs": [],
   "source": [
    "# COUNT FUNCTION\n",
    "\n",
    "def count(root, word: str):\n",
    "\n",
    "    # Set node equal to root\n",
    "    node = root\n",
    "\n",
    "    # Check if root has no children\n",
    "    if not root.children:\n",
    "        return 0\n",
    "    \n",
    "    # Iterate through given word\n",
    "    for c in word:\n",
    "\n",
    "        # Keep track of whether or not character is found\n",
    "        in_children = False\n",
    "\n",
    "        for child in node.children:\n",
    "\n",
    "            # If character is found in existing child, set char_found to True\n",
    "            if child.value == c:\n",
    "                in_children = True\n",
    "                node = child\n",
    "                break\n",
    "\n",
    "        # If character is not found, return False\n",
    "        if not in_children:\n",
    "            return 0\n",
    "\n",
    "    # If not return before, the word has been found; return True\n",
    "    if node.end_word:\n",
    "        return node.count\n",
    "    else:\n",
    "        return 0\n"
   ]
  },
  {
   "cell_type": "code",
   "execution_count": 7,
   "metadata": {
    "collapsed": true
   },
   "outputs": [],
   "source": [
    "# READ DICTIONARY\n",
    "\n",
    "# Open file\n",
    "dict_file = open(\"words.txt\", \"r\")\n",
    "dict_text = dict_file.read()\n",
    "dict_file.close()\n",
    "\n",
    "# Split words\n",
    "dictionary = dict_text.split()\n",
    "\n",
    "# Read dictionary into trie\n",
    "dict_root = Node('*')\n",
    "    \n",
    "for word in dictionary:\n",
    "    insert(dict_root, word)"
   ]
  },
  {
   "cell_type": "code",
   "execution_count": 8,
   "metadata": {
    "collapsed": true
   },
   "outputs": [],
   "source": [
    "# READ TXT FILES\n",
    "\n",
    "# Create compilation of movie titles\n",
    "scripts_orig = [\"shrek\", \"finding_nemo\", \"the_kings_speech\", \"the_imitation_game\", \"grown_ups\", \"white_chicks\", \"star_wars\", \"the_martian\"]\n",
    "scripts = [title + \".txt\" for title in scripts_orig]\n",
    "\n",
    "punctuation = \"!#$%&()*+,./:;<=>?@[\\]^_`{|}~\"\n",
    "\n",
    "# Create dictionary for plotting\n",
    "data_found = {}\n",
    "data_total = {}\n",
    "top_counts = {}\n",
    "\n",
    "# Open each file\n",
    "for title in scripts:\n",
    "    \n",
    "    # Initialize values\n",
    "    total_words = 0\n",
    "    found_words = 0\n",
    "    \n",
    "    # Load text\n",
    "    file = open(title, \"r\")\n",
    "    text = file.read()\n",
    "    file.close()\n",
    "    \n",
    "    # Split words\n",
    "    words = text.split()\n",
    "    \n",
    "    # Remove punctuation and make lowercase\n",
    "    table = str.maketrans('', '', punctuation)\n",
    "    words = [w.translate(table) for w in words]\n",
    "    words = [w.lower() for w in words]\n",
    "    \n",
    "    # Read script into trie\n",
    "    script_root = Node('*')\n",
    "    for word in words:\n",
    "        insert(script_root, word)\n",
    "    # Make list unique\n",
    "    words = list(set(words))\n",
    "    \n",
    "    # Create dictionary to store word count\n",
    "    word_counts = {}\n",
    "    \n",
    "    # Search using imported dictionary\n",
    "    for word in words:\n",
    "        total_words += 1\n",
    "        if search(dict_root, word):\n",
    "            found_words += 1\n",
    "            \n",
    "            # Store word counts\n",
    "            c = count(script_root, word)\n",
    "            word_counts[word] = c\n",
    "        \n",
    "    # Insert into dictionary\n",
    "    data_found[title] = found_words\n",
    "    data_total[title] = total_words - found_words\n",
    "    top_counts[title] = word_counts"
   ]
  },
  {
   "cell_type": "markdown",
   "metadata": {},
   "source": [
    "## Section 2: Graph\n",
    "\n",
    "Section 2 is an interactive graph feature where users can manipulate options to visually display the information that corresponds with the applied settings. This section seeks to compare the vocabulary used in each movie by incrementing how many unique words from the movie can be found in a dictionary. This provides a general idea of the literary difficulty (or \"intelligence\") of each movie script, and may be a reflection of the movie genre. For example, the genres that used the most large variety of words from the dictionary were the documentaries and science-fiction movies, while the genres that used the smallest variety of words from the dictionary were the children's movies and adult comedy movies. "
   ]
  },
  {
   "cell_type": "code",
   "execution_count": 9,
   "metadata": {
    "collapsed": true
   },
   "outputs": [],
   "source": [
    "def plot_scripts(data_found):\n",
    "    # Add controls\n",
    "    selection = widgets.Dropdown(description = \"Movie(s):\")\n",
    "    titles = list(data_found.keys())\n",
    "    titles.append(\"All\")\n",
    "    selection.options = titles\n",
    "    display(selection)\n",
    "    \n",
    "    # Plot data\n",
    "    def clicked_button(b):\n",
    "        if (selection.value == \"All\"):\n",
    "            \n",
    "            # Plot data\n",
    "            fig, ax = plt.subplots(1,1,figsize=(18, 8))\n",
    "            movies = data_found.keys()\n",
    "            words = data_found.values()\n",
    "            ax.bar(movies, words, color = 'b')\n",
    "            plt.legend(bbox_to_anchor=(.5,1), loc=\"upper left\")\n",
    "            plt.show()\n",
    "        else:\n",
    "            # Plot data\n",
    "            fig, ax = plt.subplots(1,1,figsize=(1, 8))\n",
    "            movies = selection.value\n",
    "            words = data_found[selection.value]\n",
    "            ax.bar(movies, words, color = 'b')\n",
    "            plt.legend(bbox_to_anchor=(.5,1), loc=\"upper left\")\n",
    "            plt.show()\n",
    "    \n",
    "    # Button controls\n",
    "    button = widgets.Button(description = \"Make graph\")\n",
    "    display(button)\n",
    "    button.on_click(clicked_button)"
   ]
  },
  {
   "cell_type": "code",
   "execution_count": 10,
   "metadata": {
    "collapsed": true
   },
   "outputs": [],
   "source": [
    "def plot_scripts_compare(data_found, data_total):\n",
    "    # Plot data\n",
    "    fig, ax = plt.subplots(1,1,figsize=(18, 8))\n",
    "    movies = data_found.keys()\n",
    "    found_words = []\n",
    "    total_words = []\n",
    "    for movie in movies:\n",
    "        f = data_found[movie]\n",
    "        t = data_total[movie]\n",
    "        total = f + t\n",
    "        found_words.append(f * 100.0 / total)\n",
    "        total_words.append(t * 100.0 / total)\n",
    "            \n",
    "    ax.bar(movies, found_words, color='b', label='Found words')\n",
    "    ax.bar(movies, total_words, bottom=found_words, color = 'r', label='Not found words')\n",
    "    plt.legend(bbox_to_anchor=(1.04,1), loc=\"upper left\")\n",
    "    plt.show()"
   ]
  },
  {
   "cell_type": "markdown",
   "metadata": {},
   "source": [
    "The function plot_scripts_compare() shows the percentage of words that were in the movie scripts that were found in the dictionary. The red portion is the percentage of words that were not in the dictionary, and the blue portion is the percentage of words that are in the dictionary."
   ]
  },
  {
   "cell_type": "code",
   "execution_count": 11,
   "metadata": {},
   "outputs": [
    {
     "data": {
      "image/png": "[encoded data removed]",
      "text/plain": [
       "<matplotlib.figure.Figure at 0x7f0393670978>"
      ]
     },
     "metadata": {},
     "output_type": "display_data"
    }
   ],
   "source": [
    "plot_scripts_compare(data_found, data_total)"
   ]
  },
  {
   "cell_type": "markdown",
   "metadata": {},
   "source": [
    "The function plot_scripts() shows the number of words in the movie that were found in the dictionary. The user can select which individual movie to look at or can display all of the movies in one graph."
   ]
  },
  {
   "cell_type": "code",
   "execution_count": 12,
   "metadata": {},
   "outputs": [
    {
     "data": {
      "application/vnd.jupyter.widget-view+json": {
       "model_id": "28f433e6e82f4a4d8e0954e6fd239f2c",
       "version_major": 2,
       "version_minor": 0
      },
      "text/plain": [
       "A Jupyter Widget"
      ]
     },
     "metadata": {},
     "output_type": "display_data"
    },
    {
     "data": {
      "application/vnd.jupyter.widget-view+json": {
       "model_id": "0a882adda27d42a9bb142a572c6cb62b",
       "version_major": 2,
       "version_minor": 0
      },
      "text/plain": [
       "A Jupyter Widget"
      ]
     },
     "metadata": {},
     "output_type": "display_data"
    },
    {
     "data": {
      "image/png": "[encoded data removed]",
      "text/plain": [
       "<matplotlib.figure.Figure at 0x7f039366f2b0>"
      ]
     },
     "metadata": {},
     "output_type": "display_data"
    }
   ],
   "source": [
    "plot_scripts(data_found)"
   ]
  },
  {
   "cell_type": "markdown",
   "metadata": {},
   "source": [
    "# Section 3: List\n",
    "\n",
    "This section makes use of the count() function of the trie. There is an interactive table that users can manipulate, which has three features: a dropdown to select the movie, a checkbox, and a slider to choose how many items to show in the table. The table displays the most-frequently (or least-frequently) used words in each script in order, and users can reverse the order by checking the checkbox labeled \"reverse\"."
   ]
  },
  {
   "cell_type": "code",
   "execution_count": 13,
   "metadata": {
    "collapsed": true
   },
   "outputs": [],
   "source": [
    "def display_top_counts(word_counts='', limit=20, reverse=True):\n",
    "    \n",
    "#     # Add controls\n",
    "#     selection = widgets.Dropdown(description = \"Movie(s):\")\n",
    "#     titles = list(data_found.keys())\n",
    "#     titles.append(\"All\")\n",
    "#     selection.options = titles\n",
    "#     display(selection)\n",
    "    \n",
    "#     print(selection.value)\n",
    "        \n",
    "    # Sort word counts\n",
    "    sorted_word_counts = sorted(word_counts, key=word_counts.__getitem__, reverse=reverse)[:limit]\n",
    "    #for k in sorted_word_counts:\n",
    "        #print(\"{} : {}\".format(k, word_counts[k]))\n",
    "        \n",
    "    # Start html formatting\n",
    "    html = '<table><tbody>'\n",
    "    \n",
    "    # Loop through posts\n",
    "    for index, w in enumerate(sorted_word_counts):\n",
    "        word = w\n",
    "        count = word_counts[w]\n",
    "        \n",
    "        # Continue formatting\n",
    "        html += f'''\n",
    "        <tr>\n",
    "            <td style=\"text-align: left\">{index + 1}.</td>\n",
    "            <td style=\"text-align: left\">{word}</a></td>\n",
    "            <td style=\"text-align: left\">{count}</td>\n",
    "        </tr>\n",
    "        '''\n",
    "    html += '<table><tbody>'\n",
    "    display(HTML(html))"
   ]
  },
  {
   "cell_type": "code",
   "execution_count": 14,
   "metadata": {},
   "outputs": [
    {
     "data": {
      "application/vnd.jupyter.widget-view+json": {
       "model_id": "a90673603d4340b2bbd371f35bf6f63c",
       "version_major": 2,
       "version_minor": 0
      },
      "text/plain": [
       "A Jupyter Widget"
      ]
     },
     "metadata": {},
     "output_type": "display_data"
    },
    {
     "data": {
      "text/plain": [
       "<function __main__.display_top_counts>"
      ]
     },
     "execution_count": 14,
     "metadata": {},
     "output_type": "execute_result"
    }
   ],
   "source": [
    "interact(display_top_counts, word_counts=top_counts, limit=(1, 40))"
   ]
  },
  {
   "cell_type": "code",
   "execution_count": null,
   "metadata": {
    "collapsed": true
   },
   "outputs": [],
   "source": []
  }
 ],
 "metadata": {
  "kernelspec": {
   "display_name": "Python 3",
   "language": "python",
   "name": "python3"
  },
  "language_info": {
   "codemirror_mode": {
    "name": "ipython",
    "version": 3
   },
   "file_extension": ".py",
   "mimetype": "text/x-python",
   "name": "python",
   "nbconvert_exporter": "python",
   "pygments_lexer": "ipython3",
   "version": "3.6.3"
  }
 },
 "nbformat": 4,
 "nbformat_minor": 2
}
